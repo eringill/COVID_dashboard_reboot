{
 "metadata": {
  "language_info": {
   "codemirror_mode": {
    "name": "ipython",
    "version": 3
   },
   "file_extension": ".py",
   "mimetype": "text/x-python",
   "name": "python",
   "nbconvert_exporter": "python",
   "pygments_lexer": "ipython3",
   "version": "3.8.5"
  },
  "orig_nbformat": 2,
  "kernelspec": {
   "name": "python385jvsc74a57bd0dca0ade3e726a953b501b15e8e990130d2b7799f14cfd9f4271676035ebe5511",
   "display_name": "Python 3.8.5 64-bit ('base': conda)"
  }
 },
 "nbformat": 4,
 "nbformat_minor": 2,
 "cells": [
  {
   "cell_type": "code",
   "execution_count": 54,
   "metadata": {},
   "outputs": [],
   "source": [
    "import pandas as pd\n",
    "from zipfile import ZipFile\n",
    "import requests\n",
    "import numpy as np\n",
    "import datetime\n",
    "import copy\n",
    "import chart_studio.plotly as py\n",
    "import plotly.graph_objects as go\n",
    "\n",
    "csv_url = \"https://www150.statcan.gc.ca/n1/pub/13-26-0003/2020001/COVID19-eng.zip\"\n",
    "save_path = 'data.zip'\n"
   ]
  },
  {
   "cell_type": "code",
   "execution_count": 15,
   "metadata": {},
   "outputs": [
    {
     "output_type": "error",
     "ename": "KeyboardInterrupt",
     "evalue": "",
     "traceback": [
      "\u001b[0;31m---------------------------------------------------------------------------\u001b[0m",
      "\u001b[0;31mKeyboardInterrupt\u001b[0m                         Traceback (most recent call last)",
      "\u001b[0;32m<ipython-input-15-f6ce01f80606>\u001b[0m in \u001b[0;36m<module>\u001b[0;34m\u001b[0m\n\u001b[1;32m      1\u001b[0m \u001b[0mbreakpoint\u001b[0m\u001b[0;34m(\u001b[0m\u001b[0;34m)\u001b[0m\u001b[0;34m\u001b[0m\u001b[0;34m\u001b[0m\u001b[0m\n\u001b[0;32m----> 2\u001b[0;31m \u001b[0;32mdef\u001b[0m \u001b[0mdownload_url\u001b[0m\u001b[0;34m(\u001b[0m\u001b[0murl\u001b[0m\u001b[0;34m,\u001b[0m \u001b[0msave_path\u001b[0m\u001b[0;34m,\u001b[0m \u001b[0mchunk_size\u001b[0m\u001b[0;34m=\u001b[0m\u001b[0;36m128\u001b[0m\u001b[0;34m)\u001b[0m\u001b[0;34m:\u001b[0m\u001b[0;34m\u001b[0m\u001b[0;34m\u001b[0m\u001b[0m\n\u001b[0m\u001b[1;32m      3\u001b[0m     \u001b[0mr\u001b[0m \u001b[0;34m=\u001b[0m \u001b[0mrequests\u001b[0m\u001b[0;34m.\u001b[0m\u001b[0mget\u001b[0m\u001b[0;34m(\u001b[0m\u001b[0murl\u001b[0m\u001b[0;34m,\u001b[0m \u001b[0mstream\u001b[0m\u001b[0;34m=\u001b[0m\u001b[0;32mTrue\u001b[0m\u001b[0;34m)\u001b[0m\u001b[0;34m\u001b[0m\u001b[0;34m\u001b[0m\u001b[0m\n\u001b[1;32m      4\u001b[0m     \u001b[0;32mwith\u001b[0m \u001b[0mopen\u001b[0m\u001b[0;34m(\u001b[0m\u001b[0msave_path\u001b[0m\u001b[0;34m,\u001b[0m \u001b[0;34m'wb'\u001b[0m\u001b[0;34m)\u001b[0m \u001b[0;32mas\u001b[0m \u001b[0mfd\u001b[0m\u001b[0;34m:\u001b[0m\u001b[0;34m\u001b[0m\u001b[0;34m\u001b[0m\u001b[0m\n\u001b[1;32m      5\u001b[0m         \u001b[0;32mfor\u001b[0m \u001b[0mchunk\u001b[0m \u001b[0;32min\u001b[0m \u001b[0mr\u001b[0m\u001b[0;34m.\u001b[0m\u001b[0miter_content\u001b[0m\u001b[0;34m(\u001b[0m\u001b[0mchunk_size\u001b[0m\u001b[0;34m=\u001b[0m\u001b[0mchunk_size\u001b[0m\u001b[0;34m)\u001b[0m\u001b[0;34m:\u001b[0m\u001b[0;34m\u001b[0m\u001b[0;34m\u001b[0m\u001b[0m\n",
      "\u001b[0;32m<ipython-input-15-f6ce01f80606>\u001b[0m in \u001b[0;36m<module>\u001b[0;34m\u001b[0m\n\u001b[1;32m      1\u001b[0m \u001b[0mbreakpoint\u001b[0m\u001b[0;34m(\u001b[0m\u001b[0;34m)\u001b[0m\u001b[0;34m\u001b[0m\u001b[0;34m\u001b[0m\u001b[0m\n\u001b[0;32m----> 2\u001b[0;31m \u001b[0;32mdef\u001b[0m \u001b[0mdownload_url\u001b[0m\u001b[0;34m(\u001b[0m\u001b[0murl\u001b[0m\u001b[0;34m,\u001b[0m \u001b[0msave_path\u001b[0m\u001b[0;34m,\u001b[0m \u001b[0mchunk_size\u001b[0m\u001b[0;34m=\u001b[0m\u001b[0;36m128\u001b[0m\u001b[0;34m)\u001b[0m\u001b[0;34m:\u001b[0m\u001b[0;34m\u001b[0m\u001b[0;34m\u001b[0m\u001b[0m\n\u001b[0m\u001b[1;32m      3\u001b[0m     \u001b[0mr\u001b[0m \u001b[0;34m=\u001b[0m \u001b[0mrequests\u001b[0m\u001b[0;34m.\u001b[0m\u001b[0mget\u001b[0m\u001b[0;34m(\u001b[0m\u001b[0murl\u001b[0m\u001b[0;34m,\u001b[0m \u001b[0mstream\u001b[0m\u001b[0;34m=\u001b[0m\u001b[0;32mTrue\u001b[0m\u001b[0;34m)\u001b[0m\u001b[0;34m\u001b[0m\u001b[0;34m\u001b[0m\u001b[0m\n\u001b[1;32m      4\u001b[0m     \u001b[0;32mwith\u001b[0m \u001b[0mopen\u001b[0m\u001b[0;34m(\u001b[0m\u001b[0msave_path\u001b[0m\u001b[0;34m,\u001b[0m \u001b[0;34m'wb'\u001b[0m\u001b[0;34m)\u001b[0m \u001b[0;32mas\u001b[0m \u001b[0mfd\u001b[0m\u001b[0;34m:\u001b[0m\u001b[0;34m\u001b[0m\u001b[0;34m\u001b[0m\u001b[0m\n\u001b[1;32m      5\u001b[0m         \u001b[0;32mfor\u001b[0m \u001b[0mchunk\u001b[0m \u001b[0;32min\u001b[0m \u001b[0mr\u001b[0m\u001b[0;34m.\u001b[0m\u001b[0miter_content\u001b[0m\u001b[0;34m(\u001b[0m\u001b[0mchunk_size\u001b[0m\u001b[0;34m=\u001b[0m\u001b[0mchunk_size\u001b[0m\u001b[0;34m)\u001b[0m\u001b[0;34m:\u001b[0m\u001b[0;34m\u001b[0m\u001b[0;34m\u001b[0m\u001b[0m\n",
      "\u001b[0;32m_pydevd_bundle/pydevd_cython.pyx\u001b[0m in \u001b[0;36m_pydevd_bundle.pydevd_cython.SafeCallWrapper.__call__\u001b[0;34m()\u001b[0m\n",
      "\u001b[0;32m_pydevd_bundle/pydevd_cython.pyx\u001b[0m in \u001b[0;36m_pydevd_bundle.pydevd_cython.PyDBFrame.trace_dispatch\u001b[0;34m()\u001b[0m\n",
      "\u001b[0;32m_pydevd_bundle/pydevd_cython.pyx\u001b[0m in \u001b[0;36m_pydevd_bundle.pydevd_cython.PyDBFrame.trace_dispatch\u001b[0;34m()\u001b[0m\n",
      "\u001b[0;32m_pydevd_bundle/pydevd_cython.pyx\u001b[0m in \u001b[0;36m_pydevd_bundle.pydevd_cython.PyDBFrame.trace_dispatch\u001b[0;34m()\u001b[0m\n",
      "\u001b[0;32m_pydevd_bundle/pydevd_cython.pyx\u001b[0m in \u001b[0;36m_pydevd_bundle.pydevd_cython.PyDBFrame.do_wait_suspend\u001b[0;34m()\u001b[0m\n",
      "\u001b[0;32m~/.vscode/extensions/ms-python.python-2021.5.842923320/pythonFiles/lib/python/debugpy/_vendored/pydevd/pydevd.py\u001b[0m in \u001b[0;36mdo_wait_suspend\u001b[0;34m(self, thread, frame, event, arg, exception_type)\u001b[0m\n\u001b[1;32m   1935\u001b[0m \u001b[0;34m\u001b[0m\u001b[0m\n\u001b[1;32m   1936\u001b[0m             \u001b[0;32mwith\u001b[0m \u001b[0mself\u001b[0m\u001b[0;34m.\u001b[0m\u001b[0m_threads_suspended_single_notification\u001b[0m\u001b[0;34m.\u001b[0m\u001b[0mnotify_thread_suspended\u001b[0m\u001b[0;34m(\u001b[0m\u001b[0mthread_id\u001b[0m\u001b[0;34m,\u001b[0m \u001b[0mstop_reason\u001b[0m\u001b[0;34m)\u001b[0m\u001b[0;34m:\u001b[0m\u001b[0;34m\u001b[0m\u001b[0;34m\u001b[0m\u001b[0m\n\u001b[0;32m-> 1937\u001b[0;31m                 \u001b[0mkeep_suspended\u001b[0m \u001b[0;34m=\u001b[0m \u001b[0mself\u001b[0m\u001b[0;34m.\u001b[0m\u001b[0m_do_wait_suspend\u001b[0m\u001b[0;34m(\u001b[0m\u001b[0mthread\u001b[0m\u001b[0;34m,\u001b[0m \u001b[0mframe\u001b[0m\u001b[0;34m,\u001b[0m \u001b[0mevent\u001b[0m\u001b[0;34m,\u001b[0m \u001b[0marg\u001b[0m\u001b[0;34m,\u001b[0m \u001b[0msuspend_type\u001b[0m\u001b[0;34m,\u001b[0m \u001b[0mfrom_this_thread\u001b[0m\u001b[0;34m,\u001b[0m \u001b[0mframes_tracker\u001b[0m\u001b[0;34m)\u001b[0m\u001b[0;34m\u001b[0m\u001b[0;34m\u001b[0m\u001b[0m\n\u001b[0m\u001b[1;32m   1938\u001b[0m \u001b[0;34m\u001b[0m\u001b[0m\n\u001b[1;32m   1939\u001b[0m         \u001b[0mframes_list\u001b[0m \u001b[0;34m=\u001b[0m \u001b[0;32mNone\u001b[0m\u001b[0;34m\u001b[0m\u001b[0;34m\u001b[0m\u001b[0m\n",
      "\u001b[0;32m~/.vscode/extensions/ms-python.python-2021.5.842923320/pythonFiles/lib/python/debugpy/_vendored/pydevd/pydevd.py\u001b[0m in \u001b[0;36m_do_wait_suspend\u001b[0;34m(self, thread, frame, event, arg, suspend_type, from_this_thread, frames_tracker)\u001b[0m\n\u001b[1;32m   1970\u001b[0m \u001b[0;34m\u001b[0m\u001b[0m\n\u001b[1;32m   1971\u001b[0m             \u001b[0mself\u001b[0m\u001b[0;34m.\u001b[0m\u001b[0mprocess_internal_commands\u001b[0m\u001b[0;34m(\u001b[0m\u001b[0;34m)\u001b[0m\u001b[0;34m\u001b[0m\u001b[0;34m\u001b[0m\u001b[0m\n\u001b[0;32m-> 1972\u001b[0;31m             \u001b[0mtime\u001b[0m\u001b[0;34m.\u001b[0m\u001b[0msleep\u001b[0m\u001b[0;34m(\u001b[0m\u001b[0;36m0.01\u001b[0m\u001b[0;34m)\u001b[0m\u001b[0;34m\u001b[0m\u001b[0;34m\u001b[0m\u001b[0m\n\u001b[0m\u001b[1;32m   1973\u001b[0m \u001b[0;34m\u001b[0m\u001b[0m\n\u001b[1;32m   1974\u001b[0m         \u001b[0mself\u001b[0m\u001b[0;34m.\u001b[0m\u001b[0mcancel_async_evaluation\u001b[0m\u001b[0;34m(\u001b[0m\u001b[0mget_current_thread_id\u001b[0m\u001b[0;34m(\u001b[0m\u001b[0mthread\u001b[0m\u001b[0;34m)\u001b[0m\u001b[0;34m,\u001b[0m \u001b[0mstr\u001b[0m\u001b[0;34m(\u001b[0m\u001b[0mid\u001b[0m\u001b[0;34m(\u001b[0m\u001b[0mframe\u001b[0m\u001b[0;34m)\u001b[0m\u001b[0;34m)\u001b[0m\u001b[0;34m)\u001b[0m\u001b[0;34m\u001b[0m\u001b[0;34m\u001b[0m\u001b[0m\n",
      "\u001b[0;31mKeyboardInterrupt\u001b[0m: "
     ]
    }
   ],
   "source": [
    "'''\n",
    "def download_url(url, save_path, chunk_size=128):\n",
    "    r = requests.get(url, stream=True)\n",
    "    with open(save_path, 'wb') as fd:\n",
    "        for chunk in r.iter_content(chunk_size=chunk_size):\n",
    "            fd.write(chunk)\n",
    "\n",
    "download_url(csv_url, save_path)\n",
    "\n",
    "with ZipFile('data.zip', 'r') as zip:\n",
    "    zip.extractall()\n",
    "    print('Done!')\n",
    "'''"
   ]
  },
  {
   "cell_type": "code",
   "execution_count": 51,
   "metadata": {},
   "outputs": [
    {
     "output_type": "execute_result",
     "data": {
      "text/plain": [
       "   ID               region  week_group gender    age occupation asymptomatic  \\\n",
       "0   1  Ontario and Nunavut           0      F  50-59        NaN          NaN   \n",
       "1   2  Ontario and Nunavut           0      F  30-39     school            N   \n",
       "2   3               Quebec           0      F  40-49      other            N   \n",
       "3   4  Ontario and Nunavut           0      F  20-29        NaN            N   \n",
       "4   5               Quebec           0      M   0-19      other            Y   \n",
       "\n",
       "  hospitalization resolved death transmission resolution      start  \n",
       "0               N        Y     N     domestic        NaT 2021-04-19  \n",
       "1             NaN        Y     N     domestic        NaT 2020-10-19  \n",
       "2               N        Y     N     domestic 2020-12-14 2020-11-30  \n",
       "3               N        Y     N     domestic        NaT 2020-06-15  \n",
       "4               N        Y     N     domestic 2020-12-07 2020-11-30  "
      ],
      "text/html": "<div>\n<style scoped>\n    .dataframe tbody tr th:only-of-type {\n        vertical-align: middle;\n    }\n\n    .dataframe tbody tr th {\n        vertical-align: top;\n    }\n\n    .dataframe thead th {\n        text-align: right;\n    }\n</style>\n<table border=\"1\" class=\"dataframe\">\n  <thead>\n    <tr style=\"text-align: right;\">\n      <th></th>\n      <th>ID</th>\n      <th>region</th>\n      <th>week_group</th>\n      <th>gender</th>\n      <th>age</th>\n      <th>occupation</th>\n      <th>asymptomatic</th>\n      <th>hospitalization</th>\n      <th>resolved</th>\n      <th>death</th>\n      <th>transmission</th>\n      <th>resolution</th>\n      <th>start</th>\n    </tr>\n  </thead>\n  <tbody>\n    <tr>\n      <th>0</th>\n      <td>1</td>\n      <td>Ontario and Nunavut</td>\n      <td>0</td>\n      <td>F</td>\n      <td>50-59</td>\n      <td>NaN</td>\n      <td>NaN</td>\n      <td>N</td>\n      <td>Y</td>\n      <td>N</td>\n      <td>domestic</td>\n      <td>NaT</td>\n      <td>2021-04-19</td>\n    </tr>\n    <tr>\n      <th>1</th>\n      <td>2</td>\n      <td>Ontario and Nunavut</td>\n      <td>0</td>\n      <td>F</td>\n      <td>30-39</td>\n      <td>school</td>\n      <td>N</td>\n      <td>NaN</td>\n      <td>Y</td>\n      <td>N</td>\n      <td>domestic</td>\n      <td>NaT</td>\n      <td>2020-10-19</td>\n    </tr>\n    <tr>\n      <th>2</th>\n      <td>3</td>\n      <td>Quebec</td>\n      <td>0</td>\n      <td>F</td>\n      <td>40-49</td>\n      <td>other</td>\n      <td>N</td>\n      <td>N</td>\n      <td>Y</td>\n      <td>N</td>\n      <td>domestic</td>\n      <td>2020-12-14</td>\n      <td>2020-11-30</td>\n    </tr>\n    <tr>\n      <th>3</th>\n      <td>4</td>\n      <td>Ontario and Nunavut</td>\n      <td>0</td>\n      <td>F</td>\n      <td>20-29</td>\n      <td>NaN</td>\n      <td>N</td>\n      <td>N</td>\n      <td>Y</td>\n      <td>N</td>\n      <td>domestic</td>\n      <td>NaT</td>\n      <td>2020-06-15</td>\n    </tr>\n    <tr>\n      <th>4</th>\n      <td>5</td>\n      <td>Quebec</td>\n      <td>0</td>\n      <td>M</td>\n      <td>0-19</td>\n      <td>other</td>\n      <td>Y</td>\n      <td>N</td>\n      <td>Y</td>\n      <td>N</td>\n      <td>domestic</td>\n      <td>2020-12-07</td>\n      <td>2020-11-30</td>\n    </tr>\n  </tbody>\n</table>\n</div>"
     },
     "metadata": {},
     "execution_count": 51
    }
   ],
   "source": [
    "df = pd.read_csv('COVID19-eng.csv')\n",
    "\n",
    "#recode numerical data so it is intelligible\n",
    "df.replace({'COV_REG':{1: 'Atlantic', 2: 'Quebec', 3: 'Ontario and Nunavut', 4: 'Prairies and NWT',\n",
    "                              5: 'BC and Yukon'}}, inplace = True)\n",
    "df.replace({'COV_AGR':{1: '0-19', 2: '20-29', 3: '30-39', 4: '40-49', 5: '50-59', 6: '60-69', \n",
    "                                 7: '70-79', 8: '80+', 99: np.nan}}, inplace = True)\n",
    "df.replace({'COV_ASM':{1: 'Y', 2: 'N', 9: np.nan}}, inplace = True)\n",
    "df.replace({'COV_GDR':{1: 'M', 2: 'F', 9: np.nan}}, inplace = True)\n",
    "df.replace({'COV_HSP':{1: 'Y_ICU', 2: 'Y', 3: 'N', 9: np.nan}}, inplace = True)\n",
    "df.replace({'COV_OCC':{1: 'healthcare', 2: 'school', 3: 'longtermcareresident', 4: 'other', \n",
    "                                9: np.nan}}, inplace = True)\n",
    "df.replace({'COV_TRM':{1: 'domestic', 2: 'international', 9: np.nan}}, inplace = True)\n",
    "df.replace({'COV_DTH':{1: 'Y', 2: 'N', 9: np.nan}}, inplace = True)\n",
    "df.replace({'COV_RSV':{1: 'Y', 2: 'N', 3: np.nan}}, inplace = True)\n",
    "df.replace({'COV_EW':{99: np.nan}}, inplace = True)\n",
    "df.replace({'COV_EWG':{99: np.nan}}, inplace = True)\n",
    "df.replace({'COV_EY':{99: np.nan}}, inplace = True)\n",
    "df.replace({'COV_OW':{99: np.nan}}, inplace = True)\n",
    "df.replace({'COV_OY':{99: np.nan}}, inplace = True)\n",
    "df.replace({'COV_RW':{99: np.nan}}, inplace = True)\n",
    "df.replace({'COV_RY':{99: np.nan}}, inplace = True)\n",
    "\n",
    "#rename columns for easier legibility\n",
    "df.columns = ['ID', 'region', 'week', 'week_group', 'year', 'gender', 'age', 'occupation', 'asymptomatic', 'onset_week', 'onset_year', 'hospitalization', 'resolved', 'resolution_week', 'resolution_year', 'death', 'transmission']\n",
    "\n",
    "#convert onset year and week to single column with complete date (Monday of week)\n",
    "df[\"onset_year\"] = \"20\" + (df.onset_year).astype('Int32').astype(str)\n",
    "df[\"onset_week\"] = (df.onset_week).astype('Int32').astype(str)\n",
    "df[\"onset\"] = pd.to_datetime(df.onset_week + df.onset_year.add('-1'), format='%V%G-%u', errors = 'coerce')\n",
    "\n",
    "#convert resolution year and week to single column with complete date (Monday of week)\n",
    "df[\"resolution_year\"] = \"20\" + (df.resolution_year).astype('Int32').astype(str)\n",
    "df[\"resolution_week\"] = (df.resolution_week).astype('Int32').astype(str)\n",
    "df[\"resolution\"] = pd.to_datetime(df.resolution_week + df.resolution_year.add('-1'), format='%V%G-%u', errors = 'coerce')\n",
    "\n",
    "#convert episode year and week to single column with complete date (Monday of week)\n",
    "df[\"year\"] = \"20\" + (df.year).astype('Int32').astype(str)\n",
    "df[\"week\"] = (df.week).astype('Int32').astype(str)\n",
    "df[\"episode\"] = pd.to_datetime(df.week + df.year.add('-1'), format='%V%G-%u', errors = 'coerce')\n",
    "\n",
    "#combine onset and episode columns, put the earliest date in new column\n",
    "df['start'] = df[['onset', 'episode']].min(axis = 1) \n",
    "\n",
    "#drop redundant columns\n",
    "df.drop(['onset_year', 'onset_week', 'resolution_year', 'resolution_week', 'week', 'year', 'onset', 'episode'], inplace = True, axis = 1)\n",
    "df.head()"
   ]
  },
  {
   "cell_type": "code",
   "execution_count": 52,
   "metadata": {},
   "outputs": [
    {
     "output_type": "execute_result",
     "data": {
      "text/plain": [
       "ID                 100.000000\n",
       "region             100.000000\n",
       "week_group         100.000000\n",
       "gender              99.692831\n",
       "age                 99.926657\n",
       "occupation          59.898240\n",
       "asymptomatic        79.505592\n",
       "hospitalization     69.193840\n",
       "resolved           100.000000\n",
       "death               94.885435\n",
       "transmission        86.049176\n",
       "resolution          46.579344\n",
       "start               98.916153\n",
       "dtype: float64"
      ]
     },
     "metadata": {},
     "execution_count": 52
    }
   ],
   "source": [
    "(df.shape[0] - df.isnull().sum())/df.shape[0] * 100"
   ]
  },
  {
   "cell_type": "code",
   "execution_count": null,
   "metadata": {},
   "outputs": [],
   "source": [
    "data = df[['transmission', 'age']]\n",
    "for age in data.age.unique():\n",
    "    x_val = data[data['age']] == age].age.tolist()\n",
    "    y_val = data[data['age']] == age].transmission.tolist()"
   ]
  },
  {
   "cell_type": "code",
   "execution_count": null,
   "metadata": {},
   "outputs": [],
   "source": [
    "data = data[['prname', 'YMD', 'numdeaths']]\n",
    "    for region in unique_provnames():\n",
    "        x_val = data[data['prname'] == region].YMD.tolist()\n",
    "        y_val = data[data['prname'] == region].numdeaths.tolist()\n",
    "        graph_two.append(\n",
    "            go.Scatter(\n",
    "                x = x_val,\n",
    "                y = y_val,\n",
    "                mode = 'lines',\n",
    "                name = region\n",
    "            )\n",
    "        )\n",
    "\n",
    "    layout_two = dict(title = \"Cumulative Deaths by Region\",\n",
    "                    xaxis = dict(title = 'Date'),\n",
    "                    yaxis = dict(title = 'Total Number of Deaths'),\n",
    "                )"
   ]
  }
 ]
}