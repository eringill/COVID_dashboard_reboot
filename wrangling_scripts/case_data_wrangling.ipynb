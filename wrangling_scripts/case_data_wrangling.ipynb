{
 "metadata": {
  "language_info": {
   "codemirror_mode": {
    "name": "ipython",
    "version": 3
   },
   "file_extension": ".py",
   "mimetype": "text/x-python",
   "name": "python",
   "nbconvert_exporter": "python",
   "pygments_lexer": "ipython3",
   "version": "3.8.5"
  },
  "orig_nbformat": 2,
  "kernelspec": {
   "name": "python385jvsc74a57bd0dca0ade3e726a953b501b15e8e990130d2b7799f14cfd9f4271676035ebe5511",
   "display_name": "Python 3.8.5 64-bit ('base': conda)"
  }
 },
 "nbformat": 4,
 "nbformat_minor": 2,
 "cells": [
  {
   "cell_type": "code",
   "execution_count": 1,
   "metadata": {},
   "outputs": [],
   "source": [
    "import pandas as pd\n",
    "from zipfile import ZipFile\n",
    "import requests\n",
    "import numpy as np\n",
    "import datetime\n",
    "\n",
    "\n",
    "csv_url = \"https://www150.statcan.gc.ca/n1/pub/13-26-0003/2020001/COVID19-eng.zip\"\n",
    "save_path = 'data.zip'\n",
    "#data = zip.read(name_of_file_to_read)"
   ]
  },
  {
   "cell_type": "code",
   "execution_count": 10,
   "metadata": {},
   "outputs": [
    {
     "output_type": "stream",
     "name": "stdout",
     "text": [
      "Done!\n"
     ]
    }
   ],
   "source": [
    "def download_url(url, save_path, chunk_size=128):\n",
    "    r = requests.get(url, stream=True)\n",
    "    with open(save_path, 'wb') as fd:\n",
    "        for chunk in r.iter_content(chunk_size=chunk_size):\n",
    "            fd.write(chunk)\n",
    "\n",
    "download_url(csv_url, save_path)\n",
    "\n",
    "with ZipFile('data.zip', 'r') as zip:\n",
    "    zip.extractall()\n",
    "    print('Done!')"
   ]
  },
  {
   "cell_type": "code",
   "execution_count": 11,
   "metadata": {},
   "outputs": [
    {
     "output_type": "execute_result",
     "data": {
      "text/plain": [
       "   COV_ID  COV_REG  COV_EW  COV_EWG  COV_EY  COV_GDR  COV_AGR  COV_OCC  \\\n",
       "0       1        3      16        0      21        2        5        9   \n",
       "1       2        3      43        0      20        2        3        2   \n",
       "2       3        2      49        0      20        2        4        4   \n",
       "3       4        3      25        0      20        2        2        9   \n",
       "4       5        2      49        0      20        1        1        4   \n",
       "\n",
       "   COV_ASM  COV_OW  COV_OY  COV_HSP  COV_RSV  COV_RW  COV_RY  COV_DTH  COV_TRM  \n",
       "0        9      99      99        3        1      99      99        2        1  \n",
       "1        2      43      20        9        1      99      99        2        1  \n",
       "2        2      49      20        3        1      51      20        2        1  \n",
       "3        2      25      20        3        1      99      99        2        1  \n",
       "4        1      99      99        3        1      50      20        2        1  "
      ],
      "text/html": "<div>\n<style scoped>\n    .dataframe tbody tr th:only-of-type {\n        vertical-align: middle;\n    }\n\n    .dataframe tbody tr th {\n        vertical-align: top;\n    }\n\n    .dataframe thead th {\n        text-align: right;\n    }\n</style>\n<table border=\"1\" class=\"dataframe\">\n  <thead>\n    <tr style=\"text-align: right;\">\n      <th></th>\n      <th>COV_ID</th>\n      <th>COV_REG</th>\n      <th>COV_EW</th>\n      <th>COV_EWG</th>\n      <th>COV_EY</th>\n      <th>COV_GDR</th>\n      <th>COV_AGR</th>\n      <th>COV_OCC</th>\n      <th>COV_ASM</th>\n      <th>COV_OW</th>\n      <th>COV_OY</th>\n      <th>COV_HSP</th>\n      <th>COV_RSV</th>\n      <th>COV_RW</th>\n      <th>COV_RY</th>\n      <th>COV_DTH</th>\n      <th>COV_TRM</th>\n    </tr>\n  </thead>\n  <tbody>\n    <tr>\n      <th>0</th>\n      <td>1</td>\n      <td>3</td>\n      <td>16</td>\n      <td>0</td>\n      <td>21</td>\n      <td>2</td>\n      <td>5</td>\n      <td>9</td>\n      <td>9</td>\n      <td>99</td>\n      <td>99</td>\n      <td>3</td>\n      <td>1</td>\n      <td>99</td>\n      <td>99</td>\n      <td>2</td>\n      <td>1</td>\n    </tr>\n    <tr>\n      <th>1</th>\n      <td>2</td>\n      <td>3</td>\n      <td>43</td>\n      <td>0</td>\n      <td>20</td>\n      <td>2</td>\n      <td>3</td>\n      <td>2</td>\n      <td>2</td>\n      <td>43</td>\n      <td>20</td>\n      <td>9</td>\n      <td>1</td>\n      <td>99</td>\n      <td>99</td>\n      <td>2</td>\n      <td>1</td>\n    </tr>\n    <tr>\n      <th>2</th>\n      <td>3</td>\n      <td>2</td>\n      <td>49</td>\n      <td>0</td>\n      <td>20</td>\n      <td>2</td>\n      <td>4</td>\n      <td>4</td>\n      <td>2</td>\n      <td>49</td>\n      <td>20</td>\n      <td>3</td>\n      <td>1</td>\n      <td>51</td>\n      <td>20</td>\n      <td>2</td>\n      <td>1</td>\n    </tr>\n    <tr>\n      <th>3</th>\n      <td>4</td>\n      <td>3</td>\n      <td>25</td>\n      <td>0</td>\n      <td>20</td>\n      <td>2</td>\n      <td>2</td>\n      <td>9</td>\n      <td>2</td>\n      <td>25</td>\n      <td>20</td>\n      <td>3</td>\n      <td>1</td>\n      <td>99</td>\n      <td>99</td>\n      <td>2</td>\n      <td>1</td>\n    </tr>\n    <tr>\n      <th>4</th>\n      <td>5</td>\n      <td>2</td>\n      <td>49</td>\n      <td>0</td>\n      <td>20</td>\n      <td>1</td>\n      <td>1</td>\n      <td>4</td>\n      <td>1</td>\n      <td>99</td>\n      <td>99</td>\n      <td>3</td>\n      <td>1</td>\n      <td>50</td>\n      <td>20</td>\n      <td>2</td>\n      <td>1</td>\n    </tr>\n  </tbody>\n</table>\n</div>"
     },
     "metadata": {},
     "execution_count": 11
    }
   ],
   "source": [
    "df = pd.read_csv('COVID19-eng.csv')\n",
    "df.head()"
   ]
  },
  {
   "cell_type": "code",
   "execution_count": 12,
   "metadata": {},
   "outputs": [
    {
     "output_type": "execute_result",
     "data": {
      "text/plain": [
       "   ID               region  week  week_group  year gender    age occupation  \\\n",
       "0   1  Ontario and Nunavut  16.0           0  21.0      F  50-59        NaN   \n",
       "1   2  Ontario and Nunavut  43.0           0  20.0      F  30-39     school   \n",
       "2   3               Quebec  49.0           0  20.0      F  40-49      Other   \n",
       "3   4  Ontario and Nunavut  25.0           0  20.0      F  20-29        NaN   \n",
       "4   5               Quebec  49.0           0  20.0      M   0-19      Other   \n",
       "\n",
       "  asymptomatic  onset_week  onset_year hospitalization resolved  \\\n",
       "0          NaN         NaN         NaN               N        Y   \n",
       "1            N        43.0        20.0             NaN        Y   \n",
       "2            N        49.0        20.0               N        Y   \n",
       "3            N        25.0        20.0               N        Y   \n",
       "4            Y         NaN         NaN               N        Y   \n",
       "\n",
       "   resolution_week  resolution_year death transmission  \n",
       "0              NaN              NaN     N     domestic  \n",
       "1              NaN              NaN     N     domestic  \n",
       "2             51.0             20.0     N     domestic  \n",
       "3              NaN              NaN     N     domestic  \n",
       "4             50.0             20.0     N     domestic  "
      ],
      "text/html": "<div>\n<style scoped>\n    .dataframe tbody tr th:only-of-type {\n        vertical-align: middle;\n    }\n\n    .dataframe tbody tr th {\n        vertical-align: top;\n    }\n\n    .dataframe thead th {\n        text-align: right;\n    }\n</style>\n<table border=\"1\" class=\"dataframe\">\n  <thead>\n    <tr style=\"text-align: right;\">\n      <th></th>\n      <th>ID</th>\n      <th>region</th>\n      <th>week</th>\n      <th>week_group</th>\n      <th>year</th>\n      <th>gender</th>\n      <th>age</th>\n      <th>occupation</th>\n      <th>asymptomatic</th>\n      <th>onset_week</th>\n      <th>onset_year</th>\n      <th>hospitalization</th>\n      <th>resolved</th>\n      <th>resolution_week</th>\n      <th>resolution_year</th>\n      <th>death</th>\n      <th>transmission</th>\n    </tr>\n  </thead>\n  <tbody>\n    <tr>\n      <th>0</th>\n      <td>1</td>\n      <td>Ontario and Nunavut</td>\n      <td>16.0</td>\n      <td>0</td>\n      <td>21.0</td>\n      <td>F</td>\n      <td>50-59</td>\n      <td>NaN</td>\n      <td>NaN</td>\n      <td>NaN</td>\n      <td>NaN</td>\n      <td>N</td>\n      <td>Y</td>\n      <td>NaN</td>\n      <td>NaN</td>\n      <td>N</td>\n      <td>domestic</td>\n    </tr>\n    <tr>\n      <th>1</th>\n      <td>2</td>\n      <td>Ontario and Nunavut</td>\n      <td>43.0</td>\n      <td>0</td>\n      <td>20.0</td>\n      <td>F</td>\n      <td>30-39</td>\n      <td>school</td>\n      <td>N</td>\n      <td>43.0</td>\n      <td>20.0</td>\n      <td>NaN</td>\n      <td>Y</td>\n      <td>NaN</td>\n      <td>NaN</td>\n      <td>N</td>\n      <td>domestic</td>\n    </tr>\n    <tr>\n      <th>2</th>\n      <td>3</td>\n      <td>Quebec</td>\n      <td>49.0</td>\n      <td>0</td>\n      <td>20.0</td>\n      <td>F</td>\n      <td>40-49</td>\n      <td>Other</td>\n      <td>N</td>\n      <td>49.0</td>\n      <td>20.0</td>\n      <td>N</td>\n      <td>Y</td>\n      <td>51.0</td>\n      <td>20.0</td>\n      <td>N</td>\n      <td>domestic</td>\n    </tr>\n    <tr>\n      <th>3</th>\n      <td>4</td>\n      <td>Ontario and Nunavut</td>\n      <td>25.0</td>\n      <td>0</td>\n      <td>20.0</td>\n      <td>F</td>\n      <td>20-29</td>\n      <td>NaN</td>\n      <td>N</td>\n      <td>25.0</td>\n      <td>20.0</td>\n      <td>N</td>\n      <td>Y</td>\n      <td>NaN</td>\n      <td>NaN</td>\n      <td>N</td>\n      <td>domestic</td>\n    </tr>\n    <tr>\n      <th>4</th>\n      <td>5</td>\n      <td>Quebec</td>\n      <td>49.0</td>\n      <td>0</td>\n      <td>20.0</td>\n      <td>M</td>\n      <td>0-19</td>\n      <td>Other</td>\n      <td>Y</td>\n      <td>NaN</td>\n      <td>NaN</td>\n      <td>N</td>\n      <td>Y</td>\n      <td>50.0</td>\n      <td>20.0</td>\n      <td>N</td>\n      <td>domestic</td>\n    </tr>\n  </tbody>\n</table>\n</div>"
     },
     "metadata": {},
     "execution_count": 12
    }
   ],
   "source": [
    "#recode numerical data so it is intelligible\n",
    "df.replace({'COV_REG':{1: 'Atlantic', 2: 'Quebec', 3: 'Ontario and Nunavut', 4: 'Prairies and NWT',\n",
    "                              5: 'BC and Yukon'}}, inplace = True)\n",
    "df.replace({'COV_AGR':{1: '0-19', 2: '20-29', 3: '30-39', 4: '40-49', 5: '50-59', 6: '60-69', \n",
    "                                 7: '70-79', 8: '80+', 99: np.nan}}, inplace = True)\n",
    "df.replace({'COV_ASM':{1: 'Y', 2: 'N', 9: np.nan}}, inplace = True)\n",
    "df.replace({'COV_GDR':{1: 'M', 2: 'F', 9: np.nan}}, inplace = True)\n",
    "df.replace({'COV_HSP':{1: 'Y_ICU', 2: 'Y', 3: 'N', 9: np.nan}}, inplace = True)\n",
    "df.replace({'COV_OCC':{1: 'healthcare', 2: 'school', 3: 'longtermcareresident', 4: 'Other', \n",
    "                                9: np.nan}}, inplace = True)\n",
    "df.replace({'COV_TRM':{1: 'domestic', 2: 'international', 9: None}}, inplace = True)\n",
    "df.replace({'COV_DTH':{1: 'Y', 2: 'N', 9: np.nan}}, inplace = True)\n",
    "df.replace({'COV_RSV':{1: 'Y', 2: 'N', 3: np.nan}}, inplace = True)\n",
    "df.replace({'COV_EW':{99: np.nan}}, inplace = True)\n",
    "df.replace({'COV_EWG':{99: np.nan}}, inplace = True)\n",
    "df.replace({'COV_EY':{99: np.nan}}, inplace = True)\n",
    "df.replace({'COV_OW':{99: np.nan}}, inplace = True)\n",
    "df.replace({'COV_OY':{99: np.nan}}, inplace = True)\n",
    "df.replace({'COV_RW':{99: np.nan}}, inplace = True)\n",
    "df.replace({'COV_RY':{99: np.nan}}, inplace = True)\n",
    "df.columns = ['ID', 'region', 'week', 'week_group', 'year', 'gender', 'age', 'occupation', 'asymptomatic', 'onset_week', 'onset_year', 'hospitalization', 'resolved', 'resolution_week', 'resolution_year', 'death', 'transmission']\n",
    "df.head()"
   ]
  },
  {
   "cell_type": "code",
   "execution_count": 13,
   "metadata": {},
   "outputs": [
    {
     "output_type": "stream",
     "name": "stdout",
     "text": [
      "   ID               region  week  week_group  year gender    age occupation  \\\n0   1  Ontario and Nunavut  16.0           0  21.0      F  50-59        NaN   \n1   2  Ontario and Nunavut  43.0           0  20.0      F  30-39     school   \n2   3               Quebec  49.0           0  20.0      F  40-49      Other   \n3   4  Ontario and Nunavut  25.0           0  20.0      F  20-29        NaN   \n4   5               Quebec  49.0           0  20.0      M   0-19      Other   \n\n  asymptomatic  onset_week  onset_year hospitalization resolved  \\\n0          NaN         NaN         NaN               N        Y   \n1            N        43.0        20.0             NaN        Y   \n2            N        49.0        20.0               N        Y   \n3            N        25.0        20.0               N        Y   \n4            Y         NaN         NaN               N        Y   \n\n   resolution_week  resolution_year death transmission     onset    resolution  \n0              NaN              NaN     N     domestic  2021-W16  20<NA>-W<NA>  \n1              NaN              NaN     N     domestic  2020-W43  20<NA>-W<NA>  \n2             51.0             20.0     N     domestic  2020-W49      2020-W51  \n3              NaN              NaN     N     domestic  2020-W25  20<NA>-W<NA>  \n4             50.0             20.0     N     domestic  2020-W49      2020-W50  \n"
     ]
    }
   ],
   "source": [
    "df[\"onset\"] = \"20\" + (df.year).astype('Int32').astype(str) + \"-W\" + (df.week).astype('Int32').astype(str)\n",
    "#df[\"onset\"] = datetime.datetime.strptime(str(df[\"onset\"]) + '-1', \"%Y-W%W-%w\")\n",
    "df[\"resolution\"] = \"20\" + (df.resolution_year).astype('Int32').astype(str) + \"-W\" + (df.resolution_week).astype('Int32').astype(str)\n",
    "#df[\"resolution\"] = datetime.datetime.strptime(str(df[\"resolution\"]) + '-1', \"%Y-W%W-%w\")\n",
    "print(df.head())"
   ]
  },
  {
   "cell_type": "code",
   "execution_count": 14,
   "metadata": {},
   "outputs": [
    {
     "output_type": "stream",
     "name": "stdout",
     "text": [
      "   ID               region  week  week_group  year gender    age occupation  \\\n0   1  Ontario and Nunavut  16.0           0  21.0      F  50-59        NaN   \n1   2  Ontario and Nunavut  43.0           0  20.0      F  30-39     school   \n2   3               Quebec  49.0           0  20.0      F  40-49      Other   \n3   4  Ontario and Nunavut  25.0           0  20.0      F  20-29        NaN   \n4   5               Quebec  49.0           0  20.0      M   0-19      Other   \n\n  asymptomatic  onset_week  onset_year hospitalization resolved  \\\n0          NaN         NaN         NaN               N        Y   \n1            N        43.0        20.0             NaN        Y   \n2            N        49.0        20.0               N        Y   \n3            N        25.0        20.0               N        Y   \n4            Y         NaN         NaN               N        Y   \n\n   resolution_week  resolution_year death transmission     onset resolution  \n0              NaN              NaN     N     domestic  2021-W16        NaN  \n1              NaN              NaN     N     domestic  2020-W43        NaN  \n2             51.0             20.0     N     domestic  2020-W49   2020-W51  \n3              NaN              NaN     N     domestic  2020-W25        NaN  \n4             50.0             20.0     N     domestic  2020-W49   2020-W50  \n"
     ]
    }
   ],
   "source": [
    "df.loc[df['resolution'].str.contains('NA'), 'resolution'] = np.nan\n",
    "print(df.head())"
   ]
  },
  {
   "cell_type": "code",
   "execution_count": 4,
   "metadata": {},
   "outputs": [
    {
     "output_type": "stream",
     "name": "stdout",
     "text": [
      "   ID               region  week  week_group year gender    age occupation  \\\n0   1  Ontario and Nunavut  16.0           0   21      F  50-59        NaN   \n1   2  Ontario and Nunavut  43.0           0   20      F  30-39     school   \n2   3               Quebec  49.0           0   20      F  40-49      Other   \n3   4  Ontario and Nunavut  25.0           0   20      F  20-29        NaN   \n4   5               Quebec  49.0           0   20      M   0-19      Other   \n\n  asymptomatic  onset_week  onset_year hospitalization resolved  \\\n0          NaN         NaN         NaN               N        Y   \n1            N        43.0        20.0             NaN        Y   \n2            N        49.0        20.0               N        Y   \n3            N        25.0        20.0               N        Y   \n4            Y         NaN         NaN               N        Y   \n\n   resolution_week  resolution_year death transmission  \n0              NaN              NaN     N     domestic  \n1              NaN              NaN     N     domestic  \n2             51.0             20.0     N     domestic  \n3              NaN              NaN     N     domestic  \n4             50.0             20.0     N     domestic  \n"
     ]
    }
   ],
   "source": [
    "df.year = (df.year).astype('Int32').astype(str)\n",
    "print(df.head())"
   ]
  },
  {
   "cell_type": "code",
   "execution_count": null,
   "metadata": {},
   "outputs": [],
   "source": []
  }
 ]
}